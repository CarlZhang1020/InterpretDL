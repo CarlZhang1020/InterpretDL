{
 "cells": [
  {
   "cell_type": "markdown",
   "id": "f23c2b85-6a2c-44a0-b1e4-8e4a74903ba6",
   "metadata": {},
   "source": [
    "# Load the Pretrained Model and the dataset\n",
    "We use bert-base-uncased as the model and SST-2 as the dataset for example. More models can be found in [PaddleNLP Model Zoo](https://paddlenlp.readthedocs.io/zh/latest/model_zoo/transformers.html#transformer).\n",
    "\n",
    "Obviously, PaddleNLP is needed to run this notebook, which is easy to install:\n",
    "```bash\n",
    "pip install setuptools_scm \n",
    "pip install --upgrade paddlenlp==2.1 \n",
    "```"
   ]
  },
  {
   "cell_type": "code",
   "execution_count": 3,
   "id": "e1ea47c1-0226-454b-a4eb-88e1728d3277",
   "metadata": {},
   "outputs": [
    {
     "name": "stderr",
     "output_type": "stream",
     "text": [
      "\u001b[32m[2021-11-04 16:50:48,431] [    INFO]\u001b[0m - Already cached /root/.paddlenlp/models/bert-base-uncased/bert-base-uncased.pdparams\u001b[0m\n",
      "W1104 16:50:48.433992 22865 device_context.cc:447] Please NOTE: device: 0, GPU Compute Capability: 7.0, Driver API Version: 11.2, Runtime API Version: 10.2\n",
      "W1104 16:50:48.439213 22865 device_context.cc:465] device: 0, cuDNN Version: 7.6.\n",
      "\u001b[32m[2021-11-04 16:50:58,691] [    INFO]\u001b[0m - Already cached /root/.paddlenlp/models/bert-base-uncased/bert-base-uncased-vocab.txt\u001b[0m\n",
      "INFO:paddle.utils.download:unique_endpoints {'10.255.126.17:35174'}\n"
     ]
    }
   ],
   "source": [
    "import paddle\n",
    "import paddlenlp\n",
    "from paddlenlp.transformers import BertForSequenceClassification, BertTokenizer\n",
    "\n",
    "MODEL_NAME = \"bert-base-uncased\"\n",
    "model = BertForSequenceClassification.from_pretrained(MODEL_NAME, num_classes=2)\n",
    "tokenizer = BertTokenizer.from_pretrained(MODEL_NAME)\n",
    "\n",
    "from paddlenlp.datasets import load_dataset\n",
    "train_ds, dev_ds, test_ds = load_dataset(\n",
    "    \"glue\", name='sst-2', splits=[\"train\", \"dev\", \"test\"]\n",
    ")"
   ]
  },
  {
   "cell_type": "markdown",
   "id": "d34c1be9-f487-4b27-a26b-119eff82df21",
   "metadata": {},
   "source": [
    "# Prepare the Model"
   ]
  },
  {
   "cell_type": "markdown",
   "id": "c0d4eec4-d481-4333-bf09-21b5f7148680",
   "metadata": {},
   "source": [
    "## Train the model"
   ]
  },
  {
   "cell_type": "code",
   "execution_count": null,
   "id": "33035ac1-e57c-43cc-8b24-c726f73b7964",
   "metadata": {},
   "outputs": [],
   "source": [
    "# training the model and save to save_dir\n",
    "# only needs to run once.\n",
    "# total steps ~2100 (1 epoch)\n",
    "\n",
    "from assets.utils import training_model\n",
    "training_model(model, tokenizer, train_ds, dev_ds, save_dir=f'assets/sst-2-{MODEL_NAME}')\n",
    "\n",
    "# global step 2100, epoch: 1, batch: 2100, loss: 0.22977, acc: 0.91710\n",
    "# eval loss: 0.20062, accu: 0.91972"
   ]
  },
  {
   "cell_type": "markdown",
   "id": "b1dd95ad-4542-47fa-9e6c-1d73c17a573c",
   "metadata": {},
   "source": [
    "## Or Load the trained model"
   ]
  },
  {
   "cell_type": "code",
   "execution_count": 4,
   "id": "ad059f98-d31b-43dd-84c5-3e6d40e4b080",
   "metadata": {
    "tags": []
   },
   "outputs": [],
   "source": [
    "# Load the trained model.\n",
    "state_dict = paddle.load(f'assets/sst-2-{MODEL_NAME}/model_state.pdparams')\n",
    "model.set_dict(state_dict)"
   ]
  },
  {
   "cell_type": "markdown",
   "id": "6e28b96a-a016-4b50-9553-8a34f235a6f5",
   "metadata": {},
   "source": [
    "# See the prediction results"
   ]
  },
  {
   "cell_type": "code",
   "execution_count": 5,
   "id": "73808ee2-3600-4af7-8de9-5e0dee61860c",
   "metadata": {},
   "outputs": [
    {
     "name": "stdout",
     "output_type": "stream",
     "text": [
      "Data: {'text': \"it 's a charming and often affecting journey . \"} \t Lable: positive\n",
      "Data: {'text': 'the movie achieves as great an impact by keeping these thoughts hidden as ... ( quills ) did by showing them . '} \t Lable: positive\n",
      "Data: {'text': 'this one is definitely one to skip , even for horror movie fanatics . '} \t Lable: positive\n",
      "Data: {'text': 'in its best moments , resembles a bad high school production of grease , without benefit of song . '} \t Lable: negative\n"
     ]
    }
   ],
   "source": [
    "from assets.utils import predict\n",
    "\n",
    "reviews = [\n",
    "    \"it 's a charming and often affecting journey . \",\n",
    "    'the movie achieves as great an impact by keeping these thoughts hidden as ... ( quills ) did by showing them . ',\n",
    "    'this one is definitely one to skip , even for horror movie fanatics . ',\n",
    "    'in its best moments , resembles a bad high school production of grease , without benefit of song . '\n",
    "]\n",
    "\n",
    "data = [ {\"text\": r} for r in reviews]\n",
    "\n",
    "label_map = {0: 'negative', 1: 'positive'}\n",
    "batch_size = 32\n",
    "\n",
    "results = predict(\n",
    "    model, data, tokenizer, label_map, batch_size=batch_size)\n",
    "\n",
    "for idx, text in enumerate(data):\n",
    "    print('Data: {} \\t Lable: {}'.format(text, results[idx]))"
   ]
  },
  {
   "cell_type": "markdown",
   "id": "8b026b52-64b7-4a56-add0-a0c3188b079d",
   "metadata": {},
   "source": [
    "# Prepare for Interpretations"
   ]
  },
  {
   "cell_type": "code",
   "execution_count": 6,
   "id": "dd9e11fe-bd22-45ed-ac20-3572abfa7695",
   "metadata": {},
   "outputs": [
    {
     "name": "stdout",
     "output_type": "stream",
     "text": [
      "InterpretDL Current Version: 0.3.0rc\n"
     ]
    }
   ],
   "source": [
    "import interpretdl as it\n",
    "import numpy as np\n",
    "from assets.utils import convert_example, aggregate_subwords_and_importances\n",
    "from paddlenlp.data import Stack, Tuple, Pad\n",
    "from interpretdl.data_processor.visualizer import VisualizationTextRecord, visualize_text\n",
    "\n",
    "def preprocess_fn(data):\n",
    "    examples = []\n",
    "    \n",
    "    if not isinstance(data, list):\n",
    "        data = [data]\n",
    "    \n",
    "    for text in data:\n",
    "        input_ids, segment_ids = convert_example(\n",
    "            text,\n",
    "            tokenizer,\n",
    "            max_seq_length=128,\n",
    "            is_test=True\n",
    "        )\n",
    "        examples.append((input_ids, segment_ids))\n",
    "\n",
    "    batchify_fn = lambda samples, fn=Tuple(\n",
    "        Pad(axis=0, pad_val=tokenizer.pad_token_id),  # input id\n",
    "        Pad(axis=0, pad_val=tokenizer.pad_token_id),  # segment id\n",
    "    ): fn(samples)\n",
    "    \n",
    "    input_ids, segment_ids = batchify_fn(examples)\n",
    "    return paddle.to_tensor(input_ids, stop_gradient=False), paddle.to_tensor(segment_ids, stop_gradient=False)"
   ]
  },
  {
   "cell_type": "markdown",
   "id": "ac064be6-cf9c-4eb1-84b2-875f5e79a929",
   "metadata": {},
   "source": [
    "## IG Interpreter"
   ]
  },
  {
   "cell_type": "code",
   "execution_count": 9,
   "id": "5bdf8032-6a2f-45c8-9967-bb9c3ed8170d",
   "metadata": {
    "tags": []
   },
   "outputs": [
    {
     "data": {
      "text/html": [
       "<table width: 100%><tr><th>True Label</th><th>Predicted Label (Prob)</th><th>Target Label</th><th>Word Importance</th><tr><td><text style=\"padding-right:2em\"><b>1</b></text></td><td><text style=\"padding-right:2em\"><b>1 (1.00)</b></text></td><td><text style=\"padding-right:2em\"><b>1</b></text></td><td><mark style=\"background-color: hsl(120, 75%, 88%); opacity:1.0;                         line-height:1.75\"><font color=\"black\"> it                        </font></mark><mark style=\"background-color: hsl(120, 75%, 77%); opacity:1.0;                         line-height:1.75\"><font color=\"black\"> '                        </font></mark><mark style=\"background-color: hsl(120, 75%, 85%); opacity:1.0;                         line-height:1.75\"><font color=\"black\"> s                        </font></mark><mark style=\"background-color: hsl(0, 75%, 88%); opacity:1.0;                         line-height:1.75\"><font color=\"black\"> a                        </font></mark><mark style=\"background-color: hsl(120, 75%, 87%); opacity:1.0;                         line-height:1.75\"><font color=\"black\"> charming                        </font></mark><mark style=\"background-color: hsl(120, 75%, 91%); opacity:1.0;                         line-height:1.75\"><font color=\"black\"> and                        </font></mark><mark style=\"background-color: hsl(0, 75%, 100%); opacity:1.0;                         line-height:1.75\"><font color=\"black\"> often                        </font></mark><mark style=\"background-color: hsl(120, 75%, 89%); opacity:1.0;                         line-height:1.75\"><font color=\"black\"> affecting                        </font></mark><mark style=\"background-color: hsl(0, 75%, 98%); opacity:1.0;                         line-height:1.75\"><font color=\"black\"> journey                        </font></mark><mark style=\"background-color: hsl(120, 75%, 71%); opacity:1.0;                         line-height:1.75\"><font color=\"black\"> .                        </font></mark></td><tr><tr><td><text style=\"padding-right:2em\"><b>1</b></text></td><td><text style=\"padding-right:2em\"><b>1 (0.99)</b></text></td><td><text style=\"padding-right:2em\"><b>1</b></text></td><td><mark style=\"background-color: hsl(120, 75%, 99%); opacity:1.0;                         line-height:1.75\"><font color=\"black\"> the                        </font></mark><mark style=\"background-color: hsl(0, 75%, 98%); opacity:1.0;                         line-height:1.75\"><font color=\"black\"> movie                        </font></mark><mark style=\"background-color: hsl(120, 75%, 92%); opacity:1.0;                         line-height:1.75\"><font color=\"black\"> achieves                        </font></mark><mark style=\"background-color: hsl(0, 75%, 97%); opacity:1.0;                         line-height:1.75\"><font color=\"black\"> as                        </font></mark><mark style=\"background-color: hsl(120, 75%, 93%); opacity:1.0;                         line-height:1.75\"><font color=\"black\"> great                        </font></mark><mark style=\"background-color: hsl(120, 75%, 82%); opacity:1.0;                         line-height:1.75\"><font color=\"black\"> an                        </font></mark><mark style=\"background-color: hsl(120, 75%, 98%); opacity:1.0;                         line-height:1.75\"><font color=\"black\"> impact                        </font></mark><mark style=\"background-color: hsl(120, 75%, 67%); opacity:1.0;                         line-height:1.75\"><font color=\"black\"> by                        </font></mark><mark style=\"background-color: hsl(0, 75%, 95%); opacity:1.0;                         line-height:1.75\"><font color=\"black\"> keeping                        </font></mark><mark style=\"background-color: hsl(120, 75%, 89%); opacity:1.0;                         line-height:1.75\"><font color=\"black\"> these                        </font></mark><mark style=\"background-color: hsl(120, 75%, 93%); opacity:1.0;                         line-height:1.75\"><font color=\"black\"> thoughts                        </font></mark><mark style=\"background-color: hsl(120, 75%, 88%); opacity:1.0;                         line-height:1.75\"><font color=\"black\"> hidden                        </font></mark><mark style=\"background-color: hsl(0, 75%, 90%); opacity:1.0;                         line-height:1.75\"><font color=\"black\"> as                        </font></mark><mark style=\"background-color: hsl(0, 75%, 95%); opacity:1.0;                         line-height:1.75\"><font color=\"black\"> .                        </font></mark><mark style=\"background-color: hsl(0, 75%, 93%); opacity:1.0;                         line-height:1.75\"><font color=\"black\"> .                        </font></mark><mark style=\"background-color: hsl(0, 75%, 100%); opacity:1.0;                         line-height:1.75\"><font color=\"black\"> .                        </font></mark><mark style=\"background-color: hsl(0, 75%, 98%); opacity:1.0;                         line-height:1.75\"><font color=\"black\"> (                        </font></mark><mark style=\"background-color: hsl(120, 75%, 98%); opacity:1.0;                         line-height:1.75\"><font color=\"black\"> quills                        </font></mark><mark style=\"background-color: hsl(120, 75%, 100%); opacity:1.0;                         line-height:1.75\"><font color=\"black\"> )                        </font></mark><mark style=\"background-color: hsl(0, 75%, 98%); opacity:1.0;                         line-height:1.75\"><font color=\"black\"> did                        </font></mark><mark style=\"background-color: hsl(120, 75%, 100%); opacity:1.0;                         line-height:1.75\"><font color=\"black\"> by                        </font></mark><mark style=\"background-color: hsl(0, 75%, 93%); opacity:1.0;                         line-height:1.75\"><font color=\"black\"> showing                        </font></mark><mark style=\"background-color: hsl(120, 75%, 94%); opacity:1.0;                         line-height:1.75\"><font color=\"black\"> them                        </font></mark><mark style=\"background-color: hsl(0, 75%, 98%); opacity:1.0;                         line-height:1.75\"><font color=\"black\"> .                        </font></mark></td><tr><tr><td><text style=\"padding-right:2em\"><b>0</b></text></td><td><text style=\"padding-right:2em\"><b>1 (0.76)</b></text></td><td><text style=\"padding-right:2em\"><b>1</b></text></td><td><mark style=\"background-color: hsl(120, 75%, 98%); opacity:1.0;                         line-height:1.75\"><font color=\"black\"> this                        </font></mark><mark style=\"background-color: hsl(0, 75%, 93%); opacity:1.0;                         line-height:1.75\"><font color=\"black\"> one                        </font></mark><mark style=\"background-color: hsl(0, 75%, 93%); opacity:1.0;                         line-height:1.75\"><font color=\"black\"> is                        </font></mark><mark style=\"background-color: hsl(120, 75%, 89%); opacity:1.0;                         line-height:1.75\"><font color=\"black\"> definitely                        </font></mark><mark style=\"background-color: hsl(120, 75%, 77%); opacity:1.0;                         line-height:1.75\"><font color=\"black\"> one                        </font></mark><mark style=\"background-color: hsl(0, 75%, 88%); opacity:1.0;                         line-height:1.75\"><font color=\"black\"> to                        </font></mark><mark style=\"background-color: hsl(120, 75%, 89%); opacity:1.0;                         line-height:1.75\"><font color=\"black\"> skip                        </font></mark><mark style=\"background-color: hsl(0, 75%, 77%); opacity:1.0;                         line-height:1.75\"><font color=\"black\"> ,                        </font></mark><mark style=\"background-color: hsl(120, 75%, 97%); opacity:1.0;                         line-height:1.75\"><font color=\"black\"> even                        </font></mark><mark style=\"background-color: hsl(0, 75%, 97%); opacity:1.0;                         line-height:1.75\"><font color=\"black\"> for                        </font></mark><mark style=\"background-color: hsl(0, 75%, 89%); opacity:1.0;                         line-height:1.75\"><font color=\"black\"> horror                        </font></mark><mark style=\"background-color: hsl(0, 75%, 94%); opacity:1.0;                         line-height:1.75\"><font color=\"black\"> movie                        </font></mark><mark style=\"background-color: hsl(0, 75%, 93%); opacity:1.0;                         line-height:1.75\"><font color=\"black\"> fanatics                        </font></mark><mark style=\"background-color: hsl(120, 75%, 93%); opacity:1.0;                         line-height:1.75\"><font color=\"black\"> .                        </font></mark></td><tr><tr><td><text style=\"padding-right:2em\"><b>0</b></text></td><td><text style=\"padding-right:2em\"><b>0 (1.00)</b></text></td><td><text style=\"padding-right:2em\"><b>0</b></text></td><td><mark style=\"background-color: hsl(120, 75%, 100%); opacity:1.0;                         line-height:1.75\"><font color=\"black\"> in                        </font></mark><mark style=\"background-color: hsl(0, 75%, 98%); opacity:1.0;                         line-height:1.75\"><font color=\"black\"> its                        </font></mark><mark style=\"background-color: hsl(120, 75%, 99%); opacity:1.0;                         line-height:1.75\"><font color=\"black\"> best                        </font></mark><mark style=\"background-color: hsl(120, 75%, 89%); opacity:1.0;                         line-height:1.75\"><font color=\"black\"> moments                        </font></mark><mark style=\"background-color: hsl(120, 75%, 100%); opacity:1.0;                         line-height:1.75\"><font color=\"black\"> ,                        </font></mark><mark style=\"background-color: hsl(120, 75%, 100%); opacity:1.0;                         line-height:1.75\"><font color=\"black\"> resembles                        </font></mark><mark style=\"background-color: hsl(0, 75%, 95%); opacity:1.0;                         line-height:1.75\"><font color=\"black\"> a                        </font></mark><mark style=\"background-color: hsl(0, 75%, 99%); opacity:1.0;                         line-height:1.75\"><font color=\"black\"> bad                        </font></mark><mark style=\"background-color: hsl(0, 75%, 82%); opacity:1.0;                         line-height:1.75\"><font color=\"black\"> high                        </font></mark><mark style=\"background-color: hsl(0, 75%, 99%); opacity:1.0;                         line-height:1.75\"><font color=\"black\"> school                        </font></mark><mark style=\"background-color: hsl(0, 75%, 96%); opacity:1.0;                         line-height:1.75\"><font color=\"black\"> production                        </font></mark><mark style=\"background-color: hsl(0, 75%, 99%); opacity:1.0;                         line-height:1.75\"><font color=\"black\"> of                        </font></mark><mark style=\"background-color: hsl(0, 75%, 98%); opacity:1.0;                         line-height:1.75\"><font color=\"black\"> grease                        </font></mark><mark style=\"background-color: hsl(0, 75%, 96%); opacity:1.0;                         line-height:1.75\"><font color=\"black\"> ,                        </font></mark><mark style=\"background-color: hsl(120, 75%, 97%); opacity:1.0;                         line-height:1.75\"><font color=\"black\"> without                        </font></mark><mark style=\"background-color: hsl(0, 75%, 68%); opacity:1.0;                         line-height:1.75\"><font color=\"black\"> benefit                        </font></mark><mark style=\"background-color: hsl(0, 75%, 98%); opacity:1.0;                         line-height:1.75\"><font color=\"black\"> of                        </font></mark><mark style=\"background-color: hsl(0, 75%, 100%); opacity:1.0;                         line-height:1.75\"><font color=\"black\"> song                        </font></mark><mark style=\"background-color: hsl(120, 75%, 97%); opacity:1.0;                         line-height:1.75\"><font color=\"black\"> .                        </font></mark></td><tr></table>"
      ],
      "text/plain": [
       "<IPython.core.display.HTML object>"
      ]
     },
     "metadata": {},
     "output_type": "display_data"
    }
   ],
   "source": [
    "ig = it.IntGradNLPInterpreter(model, True)\n",
    "\n",
    "pred_labels, pred_probs, avg_gradients = ig.interpret(\n",
    "    preprocess_fn(data),\n",
    "    steps=50,\n",
    "    return_pred=True)\n",
    "\n",
    "true_labels = [1, 1, 0, 0] * 5\n",
    "recs = []\n",
    "for i in range(avg_gradients.shape[0]):\n",
    "    subwords = \" \".join(tokenizer._tokenize(data[i]['text'])).split(' ')\n",
    "    subword_importances = avg_gradients[i]\n",
    "    words, word_importances = aggregate_subwords_and_importances(subwords, subword_importances)\n",
    "    word_importances = np.array(word_importances) / np.linalg.norm(\n",
    "        word_importances)\n",
    "    \n",
    "    pred_label = pred_labels[i]\n",
    "    pred_prob = pred_probs[i, pred_label]\n",
    "    true_label = true_labels[i]\n",
    "    interp_class = pred_label\n",
    "    \n",
    "    if interp_class == 0:\n",
    "        word_importances = -word_importances\n",
    "    recs.append(\n",
    "        VisualizationTextRecord(words, word_importances, true_label,\n",
    "                                pred_label, pred_prob, interp_class)\n",
    "    )\n",
    "\n",
    "visualize_text(recs)"
   ]
  },
  {
   "cell_type": "markdown",
   "id": "f5ba45cf-e1d7-4873-8fcb-3379ecffbc1e",
   "metadata": {},
   "source": [
    "## LIME Interpreter"
   ]
  },
  {
   "cell_type": "code",
   "execution_count": 8,
   "id": "06b773a6-c358-4da8-b497-26191fac14bd",
   "metadata": {},
   "outputs": [
    {
     "data": {
      "text/html": [
       "<table width: 100%><tr><th>True Label</th><th>Predicted Label (Prob)</th><th>Target Label</th><th>Word Importance</th><tr><td><text style=\"padding-right:2em\"><b>1</b></text></td><td><text style=\"padding-right:2em\"><b>1 (1.00)</b></text></td><td><text style=\"padding-right:2em\"><b>1</b></text></td><td><mark style=\"background-color: hsl(120, 75%, 99%); opacity:1.0;                         line-height:1.75\"><font color=\"black\"> it                        </font></mark><mark style=\"background-color: hsl(120, 75%, 100%); opacity:1.0;                         line-height:1.75\"><font color=\"black\"> '                        </font></mark><mark style=\"background-color: hsl(120, 75%, 100%); opacity:1.0;                         line-height:1.75\"><font color=\"black\"> s                        </font></mark><mark style=\"background-color: hsl(120, 75%, 95%); opacity:1.0;                         line-height:1.75\"><font color=\"black\"> a                        </font></mark><mark style=\"background-color: hsl(120, 75%, 58%); opacity:1.0;                         line-height:1.75\"><font color=\"black\"> charming                        </font></mark><mark style=\"background-color: hsl(120, 75%, 94%); opacity:1.0;                         line-height:1.75\"><font color=\"black\"> and                        </font></mark><mark style=\"background-color: hsl(120, 75%, 93%); opacity:1.0;                         line-height:1.75\"><font color=\"black\"> often                        </font></mark><mark style=\"background-color: hsl(120, 75%, 84%); opacity:1.0;                         line-height:1.75\"><font color=\"black\"> affecting                        </font></mark><mark style=\"background-color: hsl(120, 75%, 83%); opacity:1.0;                         line-height:1.75\"><font color=\"black\"> journey                        </font></mark><mark style=\"background-color: hsl(120, 75%, 100%); opacity:1.0;                         line-height:1.75\"><font color=\"black\"> .                        </font></mark></td><tr><tr><td><text style=\"padding-right:2em\"><b>1</b></text></td><td><text style=\"padding-right:2em\"><b>1 (0.99)</b></text></td><td><text style=\"padding-right:2em\"><b>1</b></text></td><td><mark style=\"background-color: hsl(0, 75%, 100%); opacity:1.0;                         line-height:1.75\"><font color=\"black\"> the                        </font></mark><mark style=\"background-color: hsl(120, 75%, 97%); opacity:1.0;                         line-height:1.75\"><font color=\"black\"> movie                        </font></mark><mark style=\"background-color: hsl(120, 75%, 78%); opacity:1.0;                         line-height:1.75\"><font color=\"black\"> achieves                        </font></mark><mark style=\"background-color: hsl(0, 75%, 98%); opacity:1.0;                         line-height:1.75\"><font color=\"black\"> as                        </font></mark><mark style=\"background-color: hsl(120, 75%, 79%); opacity:1.0;                         line-height:1.75\"><font color=\"black\"> great                        </font></mark><mark style=\"background-color: hsl(120, 75%, 99%); opacity:1.0;                         line-height:1.75\"><font color=\"black\"> an                        </font></mark><mark style=\"background-color: hsl(120, 75%, 68%); opacity:1.0;                         line-height:1.75\"><font color=\"black\"> impact                        </font></mark><mark style=\"background-color: hsl(0, 75%, 95%); opacity:1.0;                         line-height:1.75\"><font color=\"black\"> by                        </font></mark><mark style=\"background-color: hsl(120, 75%, 91%); opacity:1.0;                         line-height:1.75\"><font color=\"black\"> keeping                        </font></mark><mark style=\"background-color: hsl(0, 75%, 98%); opacity:1.0;                         line-height:1.75\"><font color=\"black\"> these                        </font></mark><mark style=\"background-color: hsl(120, 75%, 93%); opacity:1.0;                         line-height:1.75\"><font color=\"black\"> thoughts                        </font></mark><mark style=\"background-color: hsl(0, 75%, 100%); opacity:1.0;                         line-height:1.75\"><font color=\"black\"> hidden                        </font></mark><mark style=\"background-color: hsl(0, 75%, 99%); opacity:1.0;                         line-height:1.75\"><font color=\"black\"> as                        </font></mark><mark style=\"background-color: hsl(0, 75%, 100%); opacity:1.0;                         line-height:1.75\"><font color=\"black\"> .                        </font></mark><mark style=\"background-color: hsl(0, 75%, 100%); opacity:1.0;                         line-height:1.75\"><font color=\"black\"> .                        </font></mark><mark style=\"background-color: hsl(0, 75%, 99%); opacity:1.0;                         line-height:1.75\"><font color=\"black\"> .                        </font></mark><mark style=\"background-color: hsl(0, 75%, 97%); opacity:1.0;                         line-height:1.75\"><font color=\"black\"> (                        </font></mark><mark style=\"background-color: hsl(0, 75%, 100%); opacity:1.0;                         line-height:1.75\"><font color=\"black\"> quills                        </font></mark><mark style=\"background-color: hsl(120, 75%, 99%); opacity:1.0;                         line-height:1.75\"><font color=\"black\"> )                        </font></mark><mark style=\"background-color: hsl(0, 75%, 91%); opacity:1.0;                         line-height:1.75\"><font color=\"black\"> did                        </font></mark><mark style=\"background-color: hsl(0, 75%, 98%); opacity:1.0;                         line-height:1.75\"><font color=\"black\"> by                        </font></mark><mark style=\"background-color: hsl(120, 75%, 96%); opacity:1.0;                         line-height:1.75\"><font color=\"black\"> showing                        </font></mark><mark style=\"background-color: hsl(120, 75%, 96%); opacity:1.0;                         line-height:1.75\"><font color=\"black\"> them                        </font></mark><mark style=\"background-color: hsl(0, 75%, 98%); opacity:1.0;                         line-height:1.75\"><font color=\"black\"> .                        </font></mark></td><tr><tr><td><text style=\"padding-right:2em\"><b>0</b></text></td><td><text style=\"padding-right:2em\"><b>1 (0.82)</b></text></td><td><text style=\"padding-right:2em\"><b>1</b></text></td><td><mark style=\"background-color: hsl(0, 75%, 86%); opacity:1.0;                         line-height:1.75\"><font color=\"black\"> this                        </font></mark><mark style=\"background-color: hsl(0, 75%, 98%); opacity:1.0;                         line-height:1.75\"><font color=\"black\"> one                        </font></mark><mark style=\"background-color: hsl(0, 75%, 98%); opacity:1.0;                         line-height:1.75\"><font color=\"black\"> is                        </font></mark><mark style=\"background-color: hsl(120, 75%, 61%); opacity:1.0;                         line-height:1.75\"><font color=\"black\"> definitely                        </font></mark><mark style=\"background-color: hsl(0, 75%, 99%); opacity:1.0;                         line-height:1.75\"><font color=\"black\"> one                        </font></mark><mark style=\"background-color: hsl(120, 75%, 99%); opacity:1.0;                         line-height:1.75\"><font color=\"black\"> to                        </font></mark><mark style=\"background-color: hsl(0, 75%, 88%); opacity:1.0;                         line-height:1.75\"><font color=\"black\"> skip                        </font></mark><mark style=\"background-color: hsl(0, 75%, 98%); opacity:1.0;                         line-height:1.75\"><font color=\"black\"> ,                        </font></mark><mark style=\"background-color: hsl(0, 75%, 96%); opacity:1.0;                         line-height:1.75\"><font color=\"black\"> even                        </font></mark><mark style=\"background-color: hsl(0, 75%, 86%); opacity:1.0;                         line-height:1.75\"><font color=\"black\"> for                        </font></mark><mark style=\"background-color: hsl(0, 75%, 98%); opacity:1.0;                         line-height:1.75\"><font color=\"black\"> horror                        </font></mark><mark style=\"background-color: hsl(120, 75%, 98%); opacity:1.0;                         line-height:1.75\"><font color=\"black\"> movie                        </font></mark><mark style=\"background-color: hsl(0, 75%, 99%); opacity:1.0;                         line-height:1.75\"><font color=\"black\"> fanatics                        </font></mark><mark style=\"background-color: hsl(0, 75%, 99%); opacity:1.0;                         line-height:1.75\"><font color=\"black\"> .                        </font></mark></td><tr><tr><td><text style=\"padding-right:2em\"><b>0</b></text></td><td><text style=\"padding-right:2em\"><b>0 (1.00)</b></text></td><td><text style=\"padding-right:2em\"><b>0</b></text></td><td><mark style=\"background-color: hsl(0, 75%, 96%); opacity:1.0;                         line-height:1.75\"><font color=\"black\"> in                        </font></mark><mark style=\"background-color: hsl(120, 75%, 100%); opacity:1.0;                         line-height:1.75\"><font color=\"black\"> its                        </font></mark><mark style=\"background-color: hsl(120, 75%, 88%); opacity:1.0;                         line-height:1.75\"><font color=\"black\"> best                        </font></mark><mark style=\"background-color: hsl(120, 75%, 98%); opacity:1.0;                         line-height:1.75\"><font color=\"black\"> moments                        </font></mark><mark style=\"background-color: hsl(120, 75%, 100%); opacity:1.0;                         line-height:1.75\"><font color=\"black\"> ,                        </font></mark><mark style=\"background-color: hsl(0, 75%, 91%); opacity:1.0;                         line-height:1.75\"><font color=\"black\"> resembles                        </font></mark><mark style=\"background-color: hsl(0, 75%, 88%); opacity:1.0;                         line-height:1.75\"><font color=\"black\"> a                        </font></mark><mark style=\"background-color: hsl(0, 75%, 76%); opacity:1.0;                         line-height:1.75\"><font color=\"black\"> bad                        </font></mark><mark style=\"background-color: hsl(120, 75%, 97%); opacity:1.0;                         line-height:1.75\"><font color=\"black\"> high                        </font></mark><mark style=\"background-color: hsl(0, 75%, 92%); opacity:1.0;                         line-height:1.75\"><font color=\"black\"> school                        </font></mark><mark style=\"background-color: hsl(0, 75%, 100%); opacity:1.0;                         line-height:1.75\"><font color=\"black\"> production                        </font></mark><mark style=\"background-color: hsl(0, 75%, 98%); opacity:1.0;                         line-height:1.75\"><font color=\"black\"> of                        </font></mark><mark style=\"background-color: hsl(0, 75%, 97%); opacity:1.0;                         line-height:1.75\"><font color=\"black\"> grease                        </font></mark><mark style=\"background-color: hsl(0, 75%, 99%); opacity:1.0;                         line-height:1.75\"><font color=\"black\"> ,                        </font></mark><mark style=\"background-color: hsl(0, 75%, 79%); opacity:1.0;                         line-height:1.75\"><font color=\"black\"> without                        </font></mark><mark style=\"background-color: hsl(0, 75%, 98%); opacity:1.0;                         line-height:1.75\"><font color=\"black\"> benefit                        </font></mark><mark style=\"background-color: hsl(0, 75%, 98%); opacity:1.0;                         line-height:1.75\"><font color=\"black\"> of                        </font></mark><mark style=\"background-color: hsl(120, 75%, 100%); opacity:1.0;                         line-height:1.75\"><font color=\"black\"> song                        </font></mark><mark style=\"background-color: hsl(0, 75%, 100%); opacity:1.0;                         line-height:1.75\"><font color=\"black\"> .                        </font></mark></td><tr></table>"
      ],
      "text/plain": [
       "<IPython.core.display.HTML object>"
      ]
     },
     "metadata": {},
     "output_type": "display_data"
    }
   ],
   "source": [
    "true_labels = [1, 1, 0, 0] * 5\n",
    "recs = []\n",
    "\n",
    "lime = it.LIMENLPInterpreter(model)\n",
    "for i, review in enumerate(data):\n",
    "    pred_class, pred_prob, lime_weights = lime.interpret(\n",
    "        review,\n",
    "        preprocess_fn,\n",
    "        num_samples=1000,\n",
    "        batch_size=32,\n",
    "        unk_id=tokenizer.convert_tokens_to_ids('[UNK]'),\n",
    "        pad_id=tokenizer.convert_tokens_to_ids('[PAD]'),\n",
    "        return_pred=True)\n",
    "\n",
    "    # subwords\n",
    "    subwords = \" \".join(tokenizer._tokenize(review['text'])).split(' ')\n",
    "    interp_class = list(lime_weights.keys())[0]\n",
    "    weights = lime_weights[interp_class][1 : -1]\n",
    "    subword_importances = [t[1] for t in lime_weights[interp_class][1 : -1]]\n",
    "    \n",
    "    words, word_importances = aggregate_subwords_and_importances(subwords, subword_importances)\n",
    "    word_importances = np.array(word_importances) / np.linalg.norm(\n",
    "        word_importances)\n",
    "    \n",
    "    true_label = true_labels[i]\n",
    "    \n",
    "    if interp_class == 0:\n",
    "        word_importances = -word_importances\n",
    "        \n",
    "    rec = VisualizationTextRecord(\n",
    "        words, \n",
    "        word_importances, \n",
    "        true_label,                   \n",
    "        pred_class[0], \n",
    "        pred_prob[0],\n",
    "        interp_class\n",
    "    )\n",
    "    \n",
    "    recs.append(rec)\n",
    "\n",
    "visualize_text(recs)"
   ]
  },
  {
   "cell_type": "markdown",
   "id": "8e82f420-7d67-4a62-a7ca-9f2fc8e80bd9",
   "metadata": {},
   "source": [
    "## GradShapNLPInterpreter"
   ]
  },
  {
   "cell_type": "code",
   "execution_count": 7,
   "id": "08da6c81-1c0c-44d7-9188-f2553814f751",
   "metadata": {},
   "outputs": [
    {
     "data": {
      "text/html": [
       "<table width: 100%><tr><th>True Label</th><th>Predicted Label (Prob)</th><th>Target Label</th><th>Word Importance</th><tr><td><text style=\"padding-right:2em\"><b>1</b></text></td><td><text style=\"padding-right:2em\"><b>1 (1.00)</b></text></td><td><text style=\"padding-right:2em\"><b>1</b></text></td><td><mark style=\"background-color: hsl(120, 75%, 84%); opacity:1.0;                         line-height:1.75\"><font color=\"black\"> it                        </font></mark><mark style=\"background-color: hsl(120, 75%, 81%); opacity:1.0;                         line-height:1.75\"><font color=\"black\"> '                        </font></mark><mark style=\"background-color: hsl(120, 75%, 91%); opacity:1.0;                         line-height:1.75\"><font color=\"black\"> s                        </font></mark><mark style=\"background-color: hsl(0, 75%, 79%); opacity:1.0;                         line-height:1.75\"><font color=\"black\"> a                        </font></mark><mark style=\"background-color: hsl(0, 75%, 100%); opacity:1.0;                         line-height:1.75\"><font color=\"black\"> charming                        </font></mark><mark style=\"background-color: hsl(120, 75%, 98%); opacity:1.0;                         line-height:1.75\"><font color=\"black\"> and                        </font></mark><mark style=\"background-color: hsl(120, 75%, 97%); opacity:1.0;                         line-height:1.75\"><font color=\"black\"> often                        </font></mark><mark style=\"background-color: hsl(120, 75%, 91%); opacity:1.0;                         line-height:1.75\"><font color=\"black\"> affecting                        </font></mark><mark style=\"background-color: hsl(0, 75%, 99%); opacity:1.0;                         line-height:1.75\"><font color=\"black\"> journey                        </font></mark><mark style=\"background-color: hsl(120, 75%, 70%); opacity:1.0;                         line-height:1.75\"><font color=\"black\"> .                        </font></mark></td><tr><tr><td><text style=\"padding-right:2em\"><b>1</b></text></td><td><text style=\"padding-right:2em\"><b>1 (1.00)</b></text></td><td><text style=\"padding-right:2em\"><b>1</b></text></td><td><mark style=\"background-color: hsl(120, 75%, 96%); opacity:1.0;                         line-height:1.75\"><font color=\"black\"> the                        </font></mark><mark style=\"background-color: hsl(0, 75%, 94%); opacity:1.0;                         line-height:1.75\"><font color=\"black\"> movie                        </font></mark><mark style=\"background-color: hsl(120, 75%, 95%); opacity:1.0;                         line-height:1.75\"><font color=\"black\"> achieves                        </font></mark><mark style=\"background-color: hsl(0, 75%, 95%); opacity:1.0;                         line-height:1.75\"><font color=\"black\"> as                        </font></mark><mark style=\"background-color: hsl(120, 75%, 92%); opacity:1.0;                         line-height:1.75\"><font color=\"black\"> great                        </font></mark><mark style=\"background-color: hsl(120, 75%, 82%); opacity:1.0;                         line-height:1.75\"><font color=\"black\"> an                        </font></mark><mark style=\"background-color: hsl(120, 75%, 99%); opacity:1.0;                         line-height:1.75\"><font color=\"black\"> impact                        </font></mark><mark style=\"background-color: hsl(120, 75%, 71%); opacity:1.0;                         line-height:1.75\"><font color=\"black\"> by                        </font></mark><mark style=\"background-color: hsl(0, 75%, 94%); opacity:1.0;                         line-height:1.75\"><font color=\"black\"> keeping                        </font></mark><mark style=\"background-color: hsl(120, 75%, 99%); opacity:1.0;                         line-height:1.75\"><font color=\"black\"> these                        </font></mark><mark style=\"background-color: hsl(120, 75%, 92%); opacity:1.0;                         line-height:1.75\"><font color=\"black\"> thoughts                        </font></mark><mark style=\"background-color: hsl(120, 75%, 85%); opacity:1.0;                         line-height:1.75\"><font color=\"black\"> hidden                        </font></mark><mark style=\"background-color: hsl(0, 75%, 92%); opacity:1.0;                         line-height:1.75\"><font color=\"black\"> as                        </font></mark><mark style=\"background-color: hsl(0, 75%, 94%); opacity:1.0;                         line-height:1.75\"><font color=\"black\"> .                        </font></mark><mark style=\"background-color: hsl(0, 75%, 93%); opacity:1.0;                         line-height:1.75\"><font color=\"black\"> .                        </font></mark><mark style=\"background-color: hsl(0, 75%, 96%); opacity:1.0;                         line-height:1.75\"><font color=\"black\"> .                        </font></mark><mark style=\"background-color: hsl(0, 75%, 92%); opacity:1.0;                         line-height:1.75\"><font color=\"black\"> (                        </font></mark><mark style=\"background-color: hsl(120, 75%, 92%); opacity:1.0;                         line-height:1.75\"><font color=\"black\"> quills                        </font></mark><mark style=\"background-color: hsl(0, 75%, 96%); opacity:1.0;                         line-height:1.75\"><font color=\"black\"> )                        </font></mark><mark style=\"background-color: hsl(120, 75%, 99%); opacity:1.0;                         line-height:1.75\"><font color=\"black\"> did                        </font></mark><mark style=\"background-color: hsl(120, 75%, 98%); opacity:1.0;                         line-height:1.75\"><font color=\"black\"> by                        </font></mark><mark style=\"background-color: hsl(0, 75%, 95%); opacity:1.0;                         line-height:1.75\"><font color=\"black\"> showing                        </font></mark><mark style=\"background-color: hsl(120, 75%, 94%); opacity:1.0;                         line-height:1.75\"><font color=\"black\"> them                        </font></mark><mark style=\"background-color: hsl(0, 75%, 93%); opacity:1.0;                         line-height:1.75\"><font color=\"black\"> .                        </font></mark></td><tr><tr><td><text style=\"padding-right:2em\"><b>0</b></text></td><td><text style=\"padding-right:2em\"><b>1 (0.76)</b></text></td><td><text style=\"padding-right:2em\"><b>1</b></text></td><td><mark style=\"background-color: hsl(120, 75%, 94%); opacity:1.0;                         line-height:1.75\"><font color=\"black\"> this                        </font></mark><mark style=\"background-color: hsl(0, 75%, 96%); opacity:1.0;                         line-height:1.75\"><font color=\"black\"> one                        </font></mark><mark style=\"background-color: hsl(0, 75%, 87%); opacity:1.0;                         line-height:1.75\"><font color=\"black\"> is                        </font></mark><mark style=\"background-color: hsl(120, 75%, 90%); opacity:1.0;                         line-height:1.75\"><font color=\"black\"> definitely                        </font></mark><mark style=\"background-color: hsl(120, 75%, 85%); opacity:1.0;                         line-height:1.75\"><font color=\"black\"> one                        </font></mark><mark style=\"background-color: hsl(0, 75%, 84%); opacity:1.0;                         line-height:1.75\"><font color=\"black\"> to                        </font></mark><mark style=\"background-color: hsl(120, 75%, 81%); opacity:1.0;                         line-height:1.75\"><font color=\"black\"> skip                        </font></mark><mark style=\"background-color: hsl(0, 75%, 87%); opacity:1.0;                         line-height:1.75\"><font color=\"black\"> ,                        </font></mark><mark style=\"background-color: hsl(120, 75%, 98%); opacity:1.0;                         line-height:1.75\"><font color=\"black\"> even                        </font></mark><mark style=\"background-color: hsl(0, 75%, 96%); opacity:1.0;                         line-height:1.75\"><font color=\"black\"> for                        </font></mark><mark style=\"background-color: hsl(0, 75%, 87%); opacity:1.0;                         line-height:1.75\"><font color=\"black\"> horror                        </font></mark><mark style=\"background-color: hsl(0, 75%, 93%); opacity:1.0;                         line-height:1.75\"><font color=\"black\"> movie                        </font></mark><mark style=\"background-color: hsl(0, 75%, 90%); opacity:1.0;                         line-height:1.75\"><font color=\"black\"> fanatics                        </font></mark><mark style=\"background-color: hsl(120, 75%, 88%); opacity:1.0;                         line-height:1.75\"><font color=\"black\"> .                        </font></mark></td><tr><tr><td><text style=\"padding-right:2em\"><b>0</b></text></td><td><text style=\"padding-right:2em\"><b>0 (1.00)</b></text></td><td><text style=\"padding-right:2em\"><b>0</b></text></td><td><mark style=\"background-color: hsl(0, 75%, 100%); opacity:1.0;                         line-height:1.75\"><font color=\"black\"> in                        </font></mark><mark style=\"background-color: hsl(0, 75%, 100%); opacity:1.0;                         line-height:1.75\"><font color=\"black\"> its                        </font></mark><mark style=\"background-color: hsl(120, 75%, 97%); opacity:1.0;                         line-height:1.75\"><font color=\"black\"> best                        </font></mark><mark style=\"background-color: hsl(120, 75%, 88%); opacity:1.0;                         line-height:1.75\"><font color=\"black\"> moments                        </font></mark><mark style=\"background-color: hsl(120, 75%, 98%); opacity:1.0;                         line-height:1.75\"><font color=\"black\"> ,                        </font></mark><mark style=\"background-color: hsl(120, 75%, 95%); opacity:1.0;                         line-height:1.75\"><font color=\"black\"> resembles                        </font></mark><mark style=\"background-color: hsl(0, 75%, 99%); opacity:1.0;                         line-height:1.75\"><font color=\"black\"> a                        </font></mark><mark style=\"background-color: hsl(120, 75%, 99%); opacity:1.0;                         line-height:1.75\"><font color=\"black\"> bad                        </font></mark><mark style=\"background-color: hsl(0, 75%, 74%); opacity:1.0;                         line-height:1.75\"><font color=\"black\"> high                        </font></mark><mark style=\"background-color: hsl(120, 75%, 100%); opacity:1.0;                         line-height:1.75\"><font color=\"black\"> school                        </font></mark><mark style=\"background-color: hsl(0, 75%, 96%); opacity:1.0;                         line-height:1.75\"><font color=\"black\"> production                        </font></mark><mark style=\"background-color: hsl(120, 75%, 98%); opacity:1.0;                         line-height:1.75\"><font color=\"black\"> of                        </font></mark><mark style=\"background-color: hsl(0, 75%, 100%); opacity:1.0;                         line-height:1.75\"><font color=\"black\"> grease                        </font></mark><mark style=\"background-color: hsl(0, 75%, 96%); opacity:1.0;                         line-height:1.75\"><font color=\"black\"> ,                        </font></mark><mark style=\"background-color: hsl(120, 75%, 97%); opacity:1.0;                         line-height:1.75\"><font color=\"black\"> without                        </font></mark><mark style=\"background-color: hsl(0, 75%, 76%); opacity:1.0;                         line-height:1.75\"><font color=\"black\"> benefit                        </font></mark><mark style=\"background-color: hsl(120, 75%, 99%); opacity:1.0;                         line-height:1.75\"><font color=\"black\"> of                        </font></mark><mark style=\"background-color: hsl(120, 75%, 100%); opacity:1.0;                         line-height:1.75\"><font color=\"black\"> song                        </font></mark><mark style=\"background-color: hsl(120, 75%, 90%); opacity:1.0;                         line-height:1.75\"><font color=\"black\"> .                        </font></mark></td><tr></table>"
      ],
      "text/plain": [
       "<IPython.core.display.HTML object>"
      ]
     },
     "metadata": {},
     "output_type": "display_data"
    }
   ],
   "source": [
    "ig = it.GradShapNLPInterpreter(model, True)\n",
    "\n",
    "pred_labels, pred_probs, avg_gradients = ig.interpret(\n",
    "    preprocess_fn(data),\n",
    "    n_samples=10,\n",
    "    noise_amount=0.1,\n",
    "    return_pred=True)\n",
    "\n",
    "true_labels = [1, 1, 0, 0] * 5\n",
    "recs = []\n",
    "for i in range(avg_gradients.shape[0]):\n",
    "    subwords = \" \".join(tokenizer._tokenize(data[i]['text'])).split(' ')\n",
    "    subword_importances = avg_gradients[i]\n",
    "    words, word_importances = aggregate_subwords_and_importances(subwords, subword_importances)\n",
    "    word_importances = np.array(word_importances) / np.linalg.norm(\n",
    "        word_importances)\n",
    "    \n",
    "    pred_label = pred_labels[i]\n",
    "    pred_prob = pred_probs[i, pred_label]\n",
    "    true_label = true_labels[i]\n",
    "    interp_class = pred_label\n",
    "    \n",
    "    if interp_class == 0:\n",
    "        word_importances = -word_importances\n",
    "    recs.append(\n",
    "        VisualizationTextRecord(words, word_importances, true_label,\n",
    "                                pred_label, pred_prob, interp_class)\n",
    "    )\n",
    "\n",
    "visualize_text(recs)"
   ]
  },
  {
   "cell_type": "code",
   "execution_count": null,
   "id": "d45f084b-7f8e-46d8-8a31-1164678e9721",
   "metadata": {},
   "outputs": [],
   "source": []
  }
 ],
 "metadata": {
  "kernelspec": {
   "display_name": "pp2.2",
   "language": "python",
   "name": "pp2.2"
  },
  "language_info": {
   "codemirror_mode": {
    "name": "ipython",
    "version": 3
   },
   "file_extension": ".py",
   "mimetype": "text/x-python",
   "name": "python",
   "nbconvert_exporter": "python",
   "pygments_lexer": "ipython3",
   "version": "3.7.11"
  }
 },
 "nbformat": 4,
 "nbformat_minor": 5
}
